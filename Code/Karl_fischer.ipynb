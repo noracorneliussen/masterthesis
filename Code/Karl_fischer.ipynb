{
 "cells": [
  {
   "cell_type": "code",
   "execution_count": 2,
   "metadata": {},
   "outputs": [
    {
     "name": "stdout",
     "output_type": "stream",
     "text": [
      "  16-04 aq    16-04 oil    19-04 aq    19-04 oil    23-04 aq    23-04 oil    25-04 aq    25-04 oil\n",
      "----------  -----------  ----------  -----------  ----------  -----------  ----------  -----------\n",
      "    0.8035       0.1332      0.8602       0.0213      0.8343       0.0027      0.9358       0.0128\n"
     ]
    }
   ],
   "source": [
    "\n",
    "import matplotlib.pyplot as plt\n",
    "import numpy as np\n",
    "from tabulate import tabulate\n",
    "\n",
    "# rekkefølge: 16 aq, 16 oil, 19 aq, 19 oil, 23 aq, 23 oil, 25 aq, 25 oil\n",
    "xp = [1.3558, 0.4823, 1.9836, 0.4084, 0.9641, 0.6938, 2.0193, 0.6216] \n",
    "xe = [0.8319, 0.3849, 0.9371, 0.7265, 0.9897, 0.7542, 0.4301, 0.3750] \n",
    "xp = [x / 100 for x in xp]\n",
    "xe = [x / 100 for x in xe]\n",
    "w_oil = [0.1043, 0.074, 0.147, 0.074, 0.0835, 0.1392, 0.1443, 0.1104] # amount of sample injected into titration\n",
    "w_etOH = [0.1425, 0.0657, 0.1563, 0.124, 0.1974, 0.1419, 0.0776, 0.062] # amount of ethanol injected into titration\n",
    "sample = [0.5276+4.9618, 0.9690+10.0006, 0.5133+4.9650, 0.5031+5.0117, 0.9045+9.9533, 0.7015+9.9956, 0.5353+5.0408, 0.5131+5.3394] # fortynning prøve\n",
    "oil = [0.5276, 0.9690, 0.5133, 0.5031, 0.9045, 0.7015, 0.5353, 0.5131] # fortynning prøve\n",
    "etanol = [4.9618, 10.0006, 4.9650, 5.0117, 9.9533, 9.9956, 5.0408, 5.3394] # mengde etanol tilsatt i oljen for fortynning\n",
    "#wp = w_oil/xp\n",
    "#we = w_etOH/xe\n",
    "\n",
    "#x_oil = (wp*sample-we*etanol)/oil\n",
    "#print(x_oil)\n",
    "\n",
    "\n",
    "x_oil = []\n",
    "for i in range(len(xp)):\n",
    "    dSp = w_oil[i]\n",
    "    dSe = w_etOH[i]\n",
    "    Xp = xp[i]\n",
    "    Xe = xe[i]\n",
    "    Prove = sample[i]\n",
    "    ethanol = etanol[i]\n",
    "    wp = Xp / dSp\n",
    "    we = Xe / dSe\n",
    "    KF = (wp * Prove - we * ethanol) / oil[i]\n",
    "    x_oil.append(KF)\n",
    "\n",
    "headers = ['16-04 aq', '16-04 oil', '19-04 aq', '19-04 oil', '23-04 aq', '23-04 oil', '25-04 aq', '25-04 oil']\n",
    "table_data = [x_oil]\n",
    "\n",
    "print(tabulate(table_data, headers, floatfmt=\".4f\"))\n"
   ]
  }
 ],
 "metadata": {
  "kernelspec": {
   "display_name": "Python 3",
   "language": "python",
   "name": "python3"
  },
  "language_info": {
   "codemirror_mode": {
    "name": "ipython",
    "version": 3
   },
   "file_extension": ".py",
   "mimetype": "text/x-python",
   "name": "python",
   "nbconvert_exporter": "python",
   "pygments_lexer": "ipython3",
   "version": "3.9.6"
  }
 },
 "nbformat": 4,
 "nbformat_minor": 2
}
