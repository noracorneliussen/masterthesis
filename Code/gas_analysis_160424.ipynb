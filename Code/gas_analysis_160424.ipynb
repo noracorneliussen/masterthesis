{
 "cells": [
  {
   "cell_type": "code",
   "execution_count": 2,
   "metadata": {},
   "outputs": [],
   "source": [
    "from scipy.interpolate import interp1d\n",
    "import scipy.integrate as spi\n",
    "import numpy as np\n",
    "import matplotlib.pyplot as plt\n",
    "import pandas as pd\n",
    "import numpy as np"
   ]
  },
  {
   "cell_type": "code",
   "execution_count": 3,
   "metadata": {},
   "outputs": [],
   "source": [
    "######################## Rf FID ########################\n",
    "\n",
    "file_path_Rf_FID = \"Tekstfiler/Rf_verider_FID.txt\"\n",
    "\n",
    "column_names_Rf_FID = [\"Methane\", \"Ethane\", \"Ethene\", \"Propane\", \"Propene\", \"Butane\", \"Pentane\", \"Hexane\"]\n",
    "\n",
    "dataframe = pd.read_csv(file_path_Rf_FID, sep='\\s+', header=None, names=column_names_Rf_FID) # make dataframe\n",
    "\n",
    "Rf_FID = dataframe.to_numpy() # make dataframe to list\n",
    "Rf_FID = np.tile(Rf_FID, (18, 1))\n",
    "\n",
    "######################## Rf TCD ########################\n",
    "\n",
    "file_path_Rf_TCD = \"Tekstfiler/Rf_verdier_TCD.txt\"\n",
    "\n",
    "column_names2 = [\"H2\", \"CO2\", \"N2\", \"CH4\", \"CO\"]\n",
    "\n",
    "dataframe2 = pd.read_csv(file_path_Rf_TCD,  sep=',', header=None, names=column_names2) # make dataframe\n",
    "\n",
    "Rf_TCD = dataframe2.to_numpy() # make dataframe to list\n",
    "\n",
    "Rf_TCD = np.tile(Rf_TCD, (18, 1))\n",
    "\n",
    "######################## FID ########################\n",
    "\n",
    "file_path_FID = \"Tekstfiler/240416_FID.txt\"\n",
    "\n",
    "column_names1 = [\"Methane\", \"Ethane\", \"Ethene\", \"Propane\", \"Propene\", \"Butane\", \"Pentane\", \"Hexane\"]\n",
    "\n",
    "df1 = pd.read_csv(file_path_FID,  sep='\\s+', header=None, names = column_names1)\n",
    "\n",
    "Ai_FID = df1.to_numpy()\n",
    "\n",
    "######################## TCD ########################\n",
    "\n",
    "file_path_TCD = \"Tekstfiler/240416_TCD.txt\"\n",
    "\n",
    "column_names2 = [\"H2\", \"CO2\", \"N2\", \"CH4\", \"CO\"]\n",
    "\n",
    "df2 = pd.read_csv(file_path_TCD,  sep='\\s+', header=None, names = column_names2)\n",
    "\n",
    "Ai_TCD = df2.to_numpy()\n",
    "\n",
    "################ CALCULATING w_r ################\n",
    "\n",
    "w_r_FID = Ai_FID * Rf_FID\n",
    "\n",
    "w_r_TCD = Ai_TCD * Rf_TCD\n",
    "\n",
    "################ CALCULATING flows ################ This is in l/min, not g/h\n",
    "\n",
    "N2_flow = 20/60 + 0.4 # Change if the flow changes\n",
    "\n",
    "CH4_flows = np.zeros([10,])\n",
    "\n",
    "for i in range(10):\n",
    "    CH4_flow_value = N2_flow * (w_r_TCD[i, 3]/w_r_TCD[i, 2])\n",
    "    CH4_flows[i] = CH4_flow_value\n",
    "\n",
    "################ CALCULATING TCD flows ################\n",
    "\n",
    "TCD_flows = np.zeros((10,5))\n",
    "(N, M) = TCD_flows.shape\n",
    "\n",
    "for i in range(N):\n",
    "    for j in range(M):\n",
    "        TCD_flow_value = N2_flow * (w_r_TCD[i,j] / w_r_TCD[i,2])\n",
    "        TCD_flows[i,j] = TCD_flow_value\n",
    "\n",
    "################ CALCULATING FID flows ################\n",
    "\n",
    "FID_flows = np.zeros((10, 8))\n",
    "\n",
    "for i in range(10):\n",
    "    FID_flow_value = CH4_flows[i] * (w_r_FID[i] / w_r_FID[i, 0])\n",
    "    FID_flows[i] = FID_flow_value\n"
   ]
  },
  {
   "cell_type": "code",
   "execution_count": 4,
   "metadata": {},
   "outputs": [
    {
     "name": "stdout",
     "output_type": "stream",
     "text": [
      "Integrated Methane: 1.7952940276719396\n",
      "Integrated Ethane: 0.08016910142306095\n",
      "Integrated Ethene: 0.17119341759572693\n",
      "Integrated Propane: 0.14694102569624318\n",
      "Integrated Propene: 0.02758619573129281\n",
      "Integrated Butane: 0.19141872023095557\n",
      "Integrated Pentane: 0.16170976233706322\n",
      "Integrated Hexane: 0.10553167801207342\n",
      "Integrated H2: 25.65522580664284\n",
      "Integrated CO2: 2.2519994012858\n",
      "Integrated N2: 132.00000000000003\n",
      "Integrated CH4: 1.7952940276719396\n",
      "Integrated CO: 5.385742956907288\n"
     ]
    },
    {
     "name": "stderr",
     "output_type": "stream",
     "text": [
      "/var/folders/4w/bkdv3bx904ncw2sp853y5wt40000gn/T/ipykernel_41635/2210132027.py:8: DeprecationWarning: 'scipy.integrate.cumtrapz' is deprecated in favour of 'scipy.integrate.cumulative_trapezoid' and will be removed in SciPy 1.14.0\n",
      "  integral_values_FID_1 = spi.cumtrapz(FID_flows[:, i], time, initial=0)\n",
      "/var/folders/4w/bkdv3bx904ncw2sp853y5wt40000gn/T/ipykernel_41635/2210132027.py:20: DeprecationWarning: 'scipy.integrate.cumtrapz' is deprecated in favour of 'scipy.integrate.cumulative_trapezoid' and will be removed in SciPy 1.14.0\n",
      "  integral_values_TCD_1 = spi.cumtrapz(TCD_flows[:, i], time, initial=0)\n"
     ]
    }
   ],
   "source": [
    "time = np.array([20, 40, 60, 80, 100, 120, 140, 160, 180, 200])\n",
    "\n",
    "integrated_values_FID_1 = []\n",
    "\n",
    "for i in range(FID_flows.shape[1]):\n",
    "    #plt.plot(time, FID_flows[:, i], label=column_names1[i])\n",
    "    \n",
    "    integral_values_FID_1 = spi.cumtrapz(FID_flows[:, i], time, initial=0)\n",
    "    integrated_values_FID_1.append(integral_values_FID_1)\n",
    "\n",
    "for i, name in enumerate(column_names1):\n",
    "    print(f\"Integrated {name}: {integrated_values_FID_1[i][-1]}\")\n",
    "\n",
    "\n",
    "integrated_values_TCD_1 = []\n",
    "\n",
    "for i in range(TCD_flows.shape[1]):\n",
    "    #plt.plot(time, FID_flows[:, i], label=column_names1[i])\n",
    "    \n",
    "    integral_values_TCD_1 = spi.cumtrapz(TCD_flows[:, i], time, initial=0)\n",
    "    integrated_values_TCD_1.append(integral_values_TCD_1)\n",
    "\n",
    "for i, name in enumerate(column_names2):\n",
    "    print(f\"Integrated {name}: {integrated_values_TCD_1[i][-1]}\")\n",
    "\n",
    "#print(\"Total FID: \", np.sum(integrated_values_FID_1))\n",
    "#print(\"Total TCD: \", np.sum(integrated_values_TCD_1))\n",
    "#print(\"Total: \", np.sum(integrated_values_TCD_1)+np.sum(integrated_values_FID_1)-1.7952940276719396-25.65522580664284-132.00000000000003) # fjerner methan som er telt dobbelt, H2 og N2 \n"
   ]
  },
  {
   "cell_type": "code",
   "execution_count": 5,
   "metadata": {},
   "outputs": [
    {
     "name": "stdout",
     "output_type": "stream",
     "text": [
      "Total: 12.112880314563384\n",
      "56.06999999999999\n"
     ]
    }
   ],
   "source": [
    "# without methan twice, H2 and N2\n",
    "\n",
    "total = (\n",
    "    1.7952940276719396 + 0.08016910142306095 + 0.17119341759572693 +\n",
    "    0.14694102569624318 + 0.02758619573129281 + 0.19141872023095557 +\n",
    "    0.16170976233706322 + 0.10553167801207342 + 2.2519994012858 +\n",
    "    1.7952940276719396 + 5.385742956907288\n",
    ")\n",
    "\n",
    "print(\"Total:\", total)\n",
    "\n",
    "print(12.11+4.02+22.17+6.76+11.01)"
   ]
  },
  {
   "cell_type": "code",
   "execution_count": 10,
   "metadata": {},
   "outputs": [
    {
     "data": {
      "image/png": "[encoded data removed]",
      "text/plain": [
       "<Figure size 800x600 with 1 Axes>"
      ]
     },
     "metadata": {},
     "output_type": "display_data"
    }
   ],
   "source": [
    "values = [0.174003297, 0.024362531, 0.016915509, 0.018552665, 0.013475814, 0.01022833, 0.218268046, 0.521996406]\n",
    "products = ['C1', 'C2', 'C3', 'C4', 'C5', 'C6', 'CO$_2$', 'CO']\n",
    "\n",
    "\n",
    "plt.figure(figsize=(8, 6))\n",
    "plt.bar(products,values, width=0.6, color= 'darkseagreen')\n",
    "plt.title('Gas product distribution', fontsize=16)\n",
    "plt.legend(['300\\u00B0C, 20 g/h'], fontsize=16)\n",
    "plt.ylabel('Mass fraction', fontsize=16)\n",
    "plt.xticks(range(len(products)), products, fontsize=14)\n",
    "plt.tight_layout()\n",
    "plt.show()"
   ]
  }
 ],
 "metadata": {
  "kernelspec": {
   "display_name": "Python 3",
   "language": "python",
   "name": "python3"
  },
  "language_info": {
   "codemirror_mode": {
    "name": "ipython",
    "version": 3
   },
   "file_extension": ".py",
   "mimetype": "text/x-python",
   "name": "python",
   "nbconvert_exporter": "python",
   "pygments_lexer": "ipython3",
   "version": "3.9.6"
  }
 },
 "nbformat": 4,
 "nbformat_minor": 2
}
